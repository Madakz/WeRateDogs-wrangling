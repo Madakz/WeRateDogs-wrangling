{
 "cells": [
  {
   "cell_type": "markdown",
   "metadata": {},
   "source": [
    "## Report: act_report\n",
    "* Create a **250-word-minimum written report** called \"act_report.pdf\" or \"act_report.html\" that communicates the insights and displays the visualization(s) produced from your wrangled data. This is to be framed as an external document, like a blog post or magazine article, for example."
   ]
  },
  {
   "cell_type": "markdown",
   "metadata": {},
   "source": [
    "In WeRateDogs project wrangling, we took a lot of time to gather, assess and clean the data sets. After putting in a lot of effort to get a clean dataset, we went further to generate some insights regarding the data. To produce some insights, we carefully went trhought the clean dataset to see what information we can derive out of it. The following insights were drafted out and they are listed thus:\n",
    "\n",
    "\n",
    "    1. Learn which rating has the highest retweet count and favorite count\n",
    "\n",
    "    2. Learn which dog has the highest rating\n",
    "\n",
    "    3. Learn what month has most retweet count and favorite count\n",
    "\n",
    "    4. Which prediction has the best confidence level\n",
    "\n",
    "    5. Learn which day has most retweeet count and favorite count\n",
    " \n",
    " To visualize the generated insights we did the following:\n",
    " We created two functions to plot our graph\n",
    " **Function 1**: This functions plots a graph with only the x-axis column name give as an argument for x_val parameter\n",
    " \n",
    " def plot_graph_with_xval(df, x_val, title_val):\n",
    "    df.plot(kind='bar', x=x_val, title=title_val, figsize=(12,12))\n",
    "    plt.xlabel(x_val)\n",
    "    #plt.ylabel(y_val)\n",
    "    plt.show(block=True);\n",
    "    \n",
    "**Function**: This functions plots a graph with both the x-axis and y-axis column name give as an argument for x_val and y_val parameter respectively\n",
    " \n",
    " def plot_graph_with_xval_yval(df, x_val, y_val, title_val):\n",
    "    df.plot(kind='bar', x=x_val, y=y_val, title=title_val, figsize=(12,12))\n",
    "    plt.ylabel(y_val)\n",
    "    plt.xlabel(x_val)\n",
    "    plt.show(block=True);\n",
    "    \n",
    " **Insight 1:** \n",
    " We got the dog name and the corresponding sum of the retweets and favorite count of each associated dog. The code is given below;\n",
    " We_rate_dogs_insight1 = We_rate_dogs_final.groupby([\"rating\"],as_index=False)[\"retweet_count\", \"favorite_count\"].sum()\n",
    "We_rate_dogs_insight1.sort_values(by=[\"retweet_count\"], ascending = False).head(7)\n",
    "\n"
   ]
  },
  {
   "cell_type": "code",
   "execution_count": null,
   "metadata": {},
   "outputs": [],
   "source": []
  }
 ],
 "metadata": {
  "kernelspec": {
   "display_name": "Python 3 (ipykernel)",
   "language": "python",
   "name": "python3"
  },
  "language_info": {
   "codemirror_mode": {
    "name": "ipython",
    "version": 3
   },
   "file_extension": ".py",
   "mimetype": "text/x-python",
   "name": "python",
   "nbconvert_exporter": "python",
   "pygments_lexer": "ipython3",
   "version": "3.9.12"
  }
 },
 "nbformat": 4,
 "nbformat_minor": 2
}
